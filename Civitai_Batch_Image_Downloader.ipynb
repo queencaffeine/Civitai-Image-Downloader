{
  "nbformat": 4,
  "nbformat_minor": 0,
  "metadata": {
    "colab": {
      "provenance": []
    },
    "kernelspec": {
      "name": "python3",
      "display_name": "Python 3"
    },
    "language_info": {
      "name": "python"
    }
  },
  "cells": [
    {
      "cell_type": "markdown",
      "source": [
        "There was no way to batch download images off Civitai and that really bugged me so I made this! I can't take all the credit, I did use ChatGPT to do this as coding just makes me want to yeet myself out a building window.\n",
        "\n",
        "**Nothing gets sent to ChatGPT**, **nothing gets sent to me**, this just saves your Civitai images to your Google Drive. Google's data handling policies and privacy policies obviously apply here.\n",
        "\n",
        "Below you'll need to hit the \"play\" or run button on these cells **in order**. The first cell will ask you for 3 things - your Civitai username (this is to ensure it downloads your images and not all the images on the site or someone else's images), your API key (you can access that at http://https://civitai.com/user/account), and the number of images to download (you can find this on your profile and going across the top menu that displays Models, Posts, Images, etc.) if you don't define the number of images then it will just keep downloading until either **Civitai bans you from the API** or **Google stops giving you compute power** so including the number of images you're downloading is important. **This tool cannot download individual images in any kind of predicatble way, this is only for batch downloading all your images at once**."
      ],
      "metadata": {
        "id": "k4_zjhMIBZHX"
      }
    },
    {
      "cell_type": "markdown",
      "source": [
        "# **User Inputs (ONLY CHANGE THESE TO SUIT YOUR OWN USERNAME, API KEY, AND IMAGES)**"
      ],
      "metadata": {
        "id": "1SjFm4-D62EG"
      }
    },
    {
      "cell_type": "markdown",
      "source": [
        "Click the run button and a text box will become visible to ask you for the following inputs;"
      ],
      "metadata": {
        "id": "JW5-F_Fo-6kj"
      }
    },
    {
      "cell_type": "code",
      "source": [
        "# User inputs\n",
        "civitai_username = input(\"Enter the Civitai username: \")\n",
        "api_key = input(\"Enter your API key: \")\n",
        "max_images = int(input(\"Enter the number of images to download: \"))"
      ],
      "metadata": {
        "id": "G99fvxE361Nr",
        "colab": {
          "base_uri": "https://localhost:8080/"
        },
        "outputId": "979ea824-4325-417d-e938-c7244b8fc4f3"
      },
      "execution_count": 2,
      "outputs": [
        {
          "name": "stdout",
          "output_type": "stream",
          "text": [
            "Enter the Civitai username: AilurosSapiens\n",
            "Enter your API key: b8ff0cb063a3a9871630a2b54557cb3a\n",
            "Enter the number of images to download: 338\n"
          ]
        }
      ]
    },
    {
      "cell_type": "markdown",
      "source": [
        "# **Mount Google Drive**"
      ],
      "metadata": {
        "id": "kOGStOnY7Kus"
      }
    },
    {
      "cell_type": "code",
      "execution_count": 3,
      "metadata": {
        "id": "NS_XA_wWriGB",
        "colab": {
          "base_uri": "https://localhost:8080/"
        },
        "outputId": "ca375cbc-8bd3-4ec9-9f75-bac3de6b896b"
      },
      "outputs": [
        {
          "output_type": "stream",
          "name": "stdout",
          "text": [
            "Mounted at /content/drive\n"
          ]
        }
      ],
      "source": [
        "from google.colab import drive\n",
        "drive.mount('/content/drive')"
      ]
    },
    {
      "cell_type": "markdown",
      "source": [
        "# **Install Required Libraries**"
      ],
      "metadata": {
        "id": "Xj7B9TLE7VfG"
      }
    },
    {
      "cell_type": "code",
      "source": [
        "!pip install requests tenacity tqdm"
      ],
      "metadata": {
        "id": "sseJoVQXsRme",
        "outputId": "aa3652ad-7ab2-43c3-ee77-d81d23e21b89",
        "colab": {
          "base_uri": "https://localhost:8080/"
        }
      },
      "execution_count": 4,
      "outputs": [
        {
          "output_type": "stream",
          "name": "stdout",
          "text": [
            "Requirement already satisfied: requests in /usr/local/lib/python3.10/dist-packages (2.31.0)\n",
            "Requirement already satisfied: tenacity in /usr/local/lib/python3.10/dist-packages (8.3.0)\n",
            "Requirement already satisfied: tqdm in /usr/local/lib/python3.10/dist-packages (4.66.4)\n",
            "Requirement already satisfied: charset-normalizer<4,>=2 in /usr/local/lib/python3.10/dist-packages (from requests) (3.3.2)\n",
            "Requirement already satisfied: idna<4,>=2.5 in /usr/local/lib/python3.10/dist-packages (from requests) (3.7)\n",
            "Requirement already satisfied: urllib3<3,>=1.21.1 in /usr/local/lib/python3.10/dist-packages (from requests) (2.0.7)\n",
            "Requirement already satisfied: certifi>=2017.4.17 in /usr/local/lib/python3.10/dist-packages (from requests) (2024.6.2)\n"
          ]
        }
      ]
    },
    {
      "cell_type": "markdown",
      "source": [
        "# **Error Logging**"
      ],
      "metadata": {
        "id": "BjnNGk-x7csw"
      }
    },
    {
      "cell_type": "code",
      "source": [
        "import logging\n",
        "from tqdm import tqdm\n",
        "\n",
        "# Setup logging\n",
        "logging.basicConfig(level=logging.INFO, format='%(asctime)s - %(levelname)s - %(message)s')"
      ],
      "metadata": {
        "id": "Frgi04oJxYgK"
      },
      "execution_count": 5,
      "outputs": []
    },
    {
      "cell_type": "markdown",
      "source": [
        "# **Define Helper Functions**"
      ],
      "metadata": {
        "id": "MYxIFBp57pWy"
      }
    },
    {
      "cell_type": "code",
      "source": [
        "import requests\n",
        "from tenacity import retry, stop_after_attempt, wait_fixed, RetryError\n",
        "\n",
        "# Retry configuration\n",
        "@retry(stop=stop_after_attempt(3), wait=wait_fixed(5))\n",
        "def fetch_url(url, headers, params=None):\n",
        "    logging.info(f\"Fetching URL: {url} with params: {params}\")\n",
        "    response = requests.get(url, headers=headers, params=params)\n",
        "    response.raise_for_status()\n",
        "    return response"
      ],
      "metadata": {
        "id": "aUGBDRsLxdjS"
      },
      "execution_count": 6,
      "outputs": []
    },
    {
      "cell_type": "markdown",
      "source": [
        "# **Set Up API and Directory**"
      ],
      "metadata": {
        "id": "a_YnEJIG8WOg"
      }
    },
    {
      "cell_type": "code",
      "source": [
        "import os\n",
        "\n",
        "# API Endpoint and API key\n",
        "API_ENDPOINT = \"https://civitai.com/api/v1/images\"\n",
        "SAVE_DIR = \"/content/drive/MyDrive/Civ Downloads\"  # Google Drive directory\n",
        "\n",
        "# Create directory to save images\n",
        "if not os.path.exists(SAVE_DIR):\n",
        "    os.makedirs(SAVE_DIR)"
      ],
      "metadata": {
        "id": "5geQIKgLxoND"
      },
      "execution_count": 7,
      "outputs": []
    },
    {
      "cell_type": "markdown",
      "source": [
        "# **Download Function**"
      ],
      "metadata": {
        "id": "axeOfx1t8svY"
      }
    },
    {
      "cell_type": "code",
      "source": [
        "import time\n",
        "\n",
        "def download_images(civitai_username, api_key, max_images):\n",
        "    headers = {\n",
        "        \"Authorization\": f\"Bearer {api_key}\",\n",
        "        \"Content-Type\": \"application/json\"\n",
        "    }\n",
        "\n",
        "    params = {\n",
        "        \"username\": civitai_username  # Using the specified username\n",
        "    }\n",
        "\n",
        "    image_counter = 1\n",
        "    next_page = API_ENDPOINT\n",
        "    while next_page and image_counter <= max_images:\n",
        "        try:\n",
        "            response = fetch_url(next_page, headers, params)\n",
        "            data = response.json()\n",
        "            logging.info(f\"Fetched page: {next_page}\")\n",
        "            images = data[\"items\"]\n",
        "            for image in images:\n",
        "                if image_counter > max_images:\n",
        "                    break\n",
        "                image_url = image[\"url\"]\n",
        "                image_name = f\"{civitai_username}_civ({image_counter}).jpg\"\n",
        "                try:\n",
        "                    image_response = fetch_url(image_url, headers)\n",
        "                    image_path = os.path.join(SAVE_DIR, image_name)\n",
        "                    with open(image_path, 'wb') as file:\n",
        "                        file.write(image_response.content)\n",
        "                    logging.info(f\"Downloaded {image_name}\")\n",
        "                    image_counter += 1\n",
        "                except Exception as e:\n",
        "                    logging.error(f\"Failed to download {image_name}: {e}\")\n",
        "\n",
        "            next_page = data[\"metadata\"].get(\"nextPage\")\n",
        "            if next_page:\n",
        "                # Remove duplicate username parameter in next_page URL\n",
        "                params = None\n",
        "            else:\n",
        "                logging.info(\"No more pages to fetch.\")\n",
        "                break\n",
        "            time.sleep(1)  # Rate limiting: sleep for 1 second between page requests\n",
        "        except RetryError as e:\n",
        "            logging.error(f\"Failed to fetch images after retries: {e}\")\n",
        "            break\n",
        "        except Exception as e:\n",
        "            logging.error(f\"An error occurred: {e}\")\n",
        "            break\n",
        "\n",
        "\n",
        "\n"
      ],
      "metadata": {
        "id": "EPnDa8n8xz-k"
      },
      "execution_count": 8,
      "outputs": []
    },
    {
      "cell_type": "markdown",
      "source": [
        "# **Download your Images**"
      ],
      "metadata": {
        "id": "ce12tQODA3Eb"
      }
    },
    {
      "cell_type": "code",
      "source": [
        "if __name__ == \"__main__\":\n",
        "    download_images(civitai_username, api_key, max_images)\n"
      ],
      "metadata": {
        "id": "eG_riU9Lx3oo"
      },
      "execution_count": 9,
      "outputs": []
    }
  ]
}